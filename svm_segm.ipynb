{
 "cells": [
  {
   "cell_type": "markdown",
   "metadata": {},
   "source": [
    "# [Bonus Tasks](svm_segm.ipynb)"
   ]
  },
  {
   "cell_type": "code",
   "execution_count": 13,
   "metadata": {},
   "outputs": [],
   "source": [
    "import numpy as np\n",
    "import matplotlib.pyplot as plt\n",
    "\n",
    "import scipy.ndimage as ndi\n",
    "import skimage.morphology as morph\n",
    "import skimage.util as sk\n",
    "from sklearn.pipeline import make_pipeline\n",
    "from sklearn.preprocessing import StandardScaler\n",
    "from sklearn.svm import SVC"
   ]
  },
  {
   "cell_type": "code",
   "execution_count": 3,
   "metadata": {},
   "outputs": [],
   "source": [
    "def blend_result(img, seg, border_radius=1, interior_opacity=1, interior_opacity_decay=0.9, color=(0,1,0)):\n",
    "    img  = np.dstack([img] * 3).copy()\n",
    "    img -= img.min()\n",
    "    img /= img.max()\n",
    "    selem  = morph.disk(border_radius)\n",
    "    seg_bd = np.logical_xor(morph.binary_dilation(seg, selem), morph.binary_erosion(seg, selem))\n",
    "    mask_decay = ndi.distance_transform_edt(seg)\n",
    "    for i in range(3):\n",
    "        opacity = interior_opacity / pow(1 + mask_decay[seg], interior_opacity_decay)\n",
    "        img[:,:,i][seg] = color[i] * opacity + (1 - opacity) * img[:,:,i][seg]\n",
    "        img[:,:,i][seg_bd] = color[i]\n",
    "    return img"
   ]
  },
  {
   "cell_type": "code",
   "execution_count": 4,
   "metadata": {},
   "outputs": [],
   "source": [
    "patch_sizes = (32, 32)"
   ]
  },
  {
   "cell_type": "markdown",
   "metadata": {},
   "source": [
    "---\n",
    "\n",
    "**[Task 1.1.]()** Implement `create_data_matrix`:"
   ]
  },
  {
   "cell_type": "code",
   "execution_count": 14,
   "metadata": {},
   "outputs": [],
   "source": [
    "def create_data_matrix(img):\n",
    "    img_datamatrix = sk.view_as_blocks(img, block_shape = (32, 32))\n",
    "    return(img_datamatrix)"
   ]
  },
  {
   "cell_type": "code",
   "execution_count": 38,
   "metadata": {},
   "outputs": [
    {
     "data": {
      "text/plain": [
       "90"
      ]
     },
     "execution_count": 38,
     "metadata": {},
     "output_type": "execute_result"
    }
   ],
   "source": [
    "img = plt.imread('data/cells.png')\n",
    "data_matrix = create_data_matrix(img)\n",
    "data_matrix.shape\n",
    "data_matrix[0][0][1]\n",
    "\n",
    "(data_matrix[0][0] == data_matrix[0][1]).sum()\n",
    "\n"
   ]
  },
  {
   "cell_type": "markdown",
   "metadata": {},
   "source": [
    "**[Task 1.2.]()** Implement `create_gt_labels_vector`:"
   ]
  },
  {
   "cell_type": "code",
   "execution_count": 41,
   "metadata": {},
   "outputs": [],
   "source": [
    "def create_gt_labels_vector(ground_truth, patched_image):\n",
    "    img_datamatrix = create_data_matrix(patched_image)\n",
    "    truth_datamatrix = create_data_matrix(ground_truth)\n",
    "    for i in range(data_matrix.shape[0]):\n",
    "        for j in range(data_matrix.shape[1]):\n",
    "            coverage = (img_data_matrix[i][j] == truth_datamatrix[i][j]).sum()\n",
    "            relative_coverage = coverage//32*32\n",
    "            if relative_coverage > 0.5: \n",
    "                img_datamatrix == 1\n",
    "            else:\n",
    "                img_datamatrix == -1\n",
    "    return(img_datamatrix)\n",
    "\n"
   ]
  },
  {
   "cell_type": "code",
   "execution_count": 42,
   "metadata": {},
   "outputs": [
    {
     "ename": "TypeError",
     "evalue": "create_gt_labels_vector() missing 2 required positional arguments: 'ground_truth' and 'patched_image'",
     "output_type": "error",
     "traceback": [
      "\u001b[0;31m---------------------------------------------------------------------------\u001b[0m",
      "\u001b[0;31mTypeError\u001b[0m                                 Traceback (most recent call last)",
      "Cell \u001b[0;32mIn[42], line 1\u001b[0m\n\u001b[0;32m----> 1\u001b[0m \u001b[43mcreate_gt_labels_vector\u001b[49m\u001b[43m(\u001b[49m\u001b[43m)\u001b[49m\n",
      "\u001b[0;31mTypeError\u001b[0m: create_gt_labels_vector() missing 2 required positional arguments: 'ground_truth' and 'patched_image'"
     ]
    }
   ],
   "source": [
    "create_gt_labels_vector()"
   ]
  },
  {
   "cell_type": "markdown",
   "metadata": {},
   "source": [
    "**[Task 1.3.]()** Create the SVM classifier:"
   ]
  },
  {
   "cell_type": "code",
   "execution_count": 43,
   "metadata": {},
   "outputs": [],
   "source": [
    "clf = make_pipeline(StandardScaler(), SVC(class_weight='balanced', gamma=0.1))"
   ]
  },
  {
   "cell_type": "markdown",
   "metadata": {},
   "source": [
    "**[Task 1.3 (a).]()** Create the data matrices for the images `dna-33` and `dna-44`:"
   ]
  },
  {
   "cell_type": "code",
   "execution_count": 52,
   "metadata": {},
   "outputs": [],
   "source": [
    "dna_33 = plt.imread(\"data/NIH3T3/im/dna-33.png\")\n",
    "dna_44 = plt.imread(\"data/NIH3T3/im/dna-44.png\")\n",
    "dna_33_gt = plt.imread(\"data/NIH3T3/gt/33.png\")\n",
    "dna_44_gt = plt.imread(\"data/NIH3T3/gt/44.png\")"
   ]
  },
  {
   "cell_type": "markdown",
   "metadata": {},
   "source": [
    "**[Task 1.3 (b).]()** Create the corresponding ground truth label vectors:"
   ]
  },
  {
   "cell_type": "code",
   "execution_count": null,
   "metadata": {},
   "outputs": [],
   "source": []
  },
  {
   "cell_type": "markdown",
   "metadata": {},
   "source": [
    "**[Task 1.3 (c).]()** Create the *combined* data matrices and ground truth label vectors:"
   ]
  },
  {
   "cell_type": "code",
   "execution_count": null,
   "metadata": {},
   "outputs": [],
   "source": []
  },
  {
   "cell_type": "markdown",
   "metadata": {},
   "source": [
    "**[Task 1.3 (d).]()** Train the classifier using the data matrix and label vectors from above:"
   ]
  },
  {
   "cell_type": "code",
   "execution_count": null,
   "metadata": {},
   "outputs": [],
   "source": []
  },
  {
   "cell_type": "markdown",
   "metadata": {},
   "source": [
    "**[Task 1.4.]()** Implement the function `predict_image`:"
   ]
  },
  {
   "cell_type": "code",
   "execution_count": null,
   "metadata": {},
   "outputs": [],
   "source": []
  },
  {
   "cell_type": "markdown",
   "metadata": {},
   "source": [
    "Test your implementation:"
   ]
  },
  {
   "cell_type": "code",
   "execution_count": null,
   "metadata": {},
   "outputs": [],
   "source": [
    "img = plt.imread(f'data/NIH3T3/im/dna-0.png')\n",
    "seg = predict_image(img)\n",
    "\n",
    "plt.figure()\n",
    "plt.imshow(blend_result(img, seg))"
   ]
  },
  {
   "cell_type": "markdown",
   "metadata": {},
   "source": [
    "**[Task 1.5.]()** Perform batch processing:"
   ]
  },
  {
   "cell_type": "code",
   "execution_count": null,
   "metadata": {},
   "outputs": [],
   "source": []
  }
 ],
 "metadata": {
  "kernelspec": {
   "display_name": "Python 3",
   "language": "python",
   "name": "python3"
  },
  "language_info": {
   "codemirror_mode": {
    "name": "ipython",
    "version": 3
   },
   "file_extension": ".py",
   "mimetype": "text/x-python",
   "name": "python",
   "nbconvert_exporter": "python",
   "pygments_lexer": "ipython3",
   "version": "3.12.7"
  }
 },
 "nbformat": 4,
 "nbformat_minor": 4
}
